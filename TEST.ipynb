{
 "cells": [
  {
   "cell_type": "code",
   "execution_count": 2,
   "metadata": {},
   "outputs": [
    {
     "data": {
      "text/plain": [
       "True"
      ]
     },
     "execution_count": 2,
     "metadata": {},
     "output_type": "execute_result"
    }
   ],
   "source": [
    "import os\n",
    "import streamlit as st\n",
    "import pickle\n",
    "import time\n",
    "from langchain import OpenAI\n",
    "from langchain.chains import RetrievalQAWithSourcesChain\n",
    "from langchain.text_splitter import RecursiveCharacterTextSplitter\n",
    "from langchain.document_loaders import UnstructuredURLLoader\n",
    "from langchain.embeddings import OpenAIEmbeddings\n",
    "from langchain.vectorstores import FAISS\n",
    "\n",
    "from dotenv import load_dotenv\n",
    "load_dotenv()  # take environment variables from .env (especially openai api key)"
   ]
  },
  {
   "cell_type": "code",
   "execution_count": 4,
   "metadata": {},
   "outputs": [],
   "source": [
    "url1 = 'https://finance.yahoo.com/news/inflation-walmart-target-highlight-a-consumer-focused-week-what-to-watch-143030435.html'\n",
    "url2 = 'https://finance.yahoo.com/news/the-sandwich-generation-how-to-prepare-to-take-care-of-kids-and-parents-152300446.html'\n",
    "url3 = 'https://finance.yahoo.com/news/why-the-concept-of-loss-aversion-could-help-explain-bidens-weak-economic-numbers-132455815.html'\n",
    "urls = [url1, url2, url3]\n",
    "# for i in range(3):\n",
    "#     url = st.sidebar.text_binput(f\"URL {i+1}\")\n",
    "#     urls.append(url)\n",
    "\n",
    "process_url_clicked = st.sidebar.button(\"Process URLs\")\n",
    "file_path = \"faiss_store_openai.pkl\"\n",
    "\n",
    "llm = OpenAI(temperature=0.9, max_tokens=4000, model='gpt-3.5-turbo-instruct-0914')\n"
   ]
  },
  {
   "cell_type": "code",
   "execution_count": 5,
   "metadata": {},
   "outputs": [
    {
     "name": "stderr",
     "output_type": "stream",
     "text": [
      "libmagic is unavailable but assists in filetype detection on file-like objects. Please consider installing libmagic for better results.\n",
      "Error fetching or processing https://finance.yahoo.com/news/inflation-walmart-target-highlight-a-consumer-focused-week-what-to-watch-143030435.html, exception: Invalid file. The FileType.UNK file type is not supported in partition.\n",
      "libmagic is unavailable but assists in filetype detection on file-like objects. Please consider installing libmagic for better results.\n",
      "Error fetching or processing https://finance.yahoo.com/news/the-sandwich-generation-how-to-prepare-to-take-care-of-kids-and-parents-152300446.html, exception: Invalid file. The FileType.UNK file type is not supported in partition.\n",
      "libmagic is unavailable but assists in filetype detection on file-like objects. Please consider installing libmagic for better results.\n",
      "Error fetching or processing https://finance.yahoo.com/news/why-the-concept-of-loss-aversion-could-help-explain-bidens-weak-economic-numbers-132455815.html, exception: Invalid file. The FileType.UNK file type is not supported in partition.\n"
     ]
    },
    {
     "data": {
      "text/plain": [
       "[]"
      ]
     },
     "execution_count": 5,
     "metadata": {},
     "output_type": "execute_result"
    }
   ],
   "source": [
    "loader = UnstructuredURLLoader(urls=urls)\n",
    "data = loader.load()\n",
    "text_splitter = RecursiveCharacterTextSplitter(\n",
    "    separators=['\\n\\n', '\\n', '.', ','],\n",
    "    chunk_size=1000\n",
    ")    \n",
    "docs = text_splitter.split_documents(data)    \n",
    "docs\n"
   ]
  },
  {
   "cell_type": "code",
   "execution_count": null,
   "metadata": {},
   "outputs": [],
   "source": [
    "\n",
    "embeddings = OpenAIEmbeddings()\n",
    "vectorstore_openai = FAISS.from_documents(docs, embeddings)   \n",
    "\n",
    "# Save the FAISS index to a pickle file\n",
    "with open(file_path, \"wb\") as f:\n",
    "    pickle.dump(vectorstore_openai, f)"
   ]
  }
 ],
 "metadata": {
  "kernelspec": {
   "display_name": "base",
   "language": "python",
   "name": "python3"
  },
  "language_info": {
   "codemirror_mode": {
    "name": "ipython",
    "version": 3
   },
   "file_extension": ".py",
   "mimetype": "text/x-python",
   "name": "python",
   "nbconvert_exporter": "python",
   "pygments_lexer": "ipython3",
   "version": "3.11.5"
  }
 },
 "nbformat": 4,
 "nbformat_minor": 2
}
